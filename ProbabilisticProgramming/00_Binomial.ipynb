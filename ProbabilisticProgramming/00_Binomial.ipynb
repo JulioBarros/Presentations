{
 "cells": [
  {
   "cell_type": "code",
   "execution_count": 1,
   "metadata": {},
   "outputs": [],
   "source": [
    "from numpy.random import random, binomial\n",
    "import numpy as np\n",
    "import matplotlib.pyplot as plt"
   ]
  },
  {
   "cell_type": "code",
   "execution_count": 2,
   "metadata": {},
   "outputs": [
    {
     "data": {
      "text/plain": [
       "(30, 0.3333333333333333)"
      ]
     },
     "execution_count": 2,
     "metadata": {},
     "output_type": "execute_result"
    }
   ],
   "source": [
    "n = 30 \n",
    "p = 10 / 30.0\n",
    "\n",
    "n, p"
   ]
  },
  {
   "cell_type": "code",
   "execution_count": 3,
   "metadata": {},
   "outputs": [
    {
     "data": {
      "text/plain": [
       "0.40102833598261123"
      ]
     },
     "execution_count": 3,
     "metadata": {},
     "output_type": "execute_result"
    }
   ],
   "source": [
    "random()"
   ]
  },
  {
   "cell_type": "code",
   "execution_count": 4,
   "metadata": {},
   "outputs": [
    {
     "data": {
      "text/plain": [
       "(0.10572774169661192, True)"
      ]
     },
     "execution_count": 4,
     "metadata": {},
     "output_type": "execute_result"
    }
   ],
   "source": [
    "d = random()\n",
    "d, d <= p"
   ]
  },
  {
   "cell_type": "code",
   "execution_count": 5,
   "metadata": {},
   "outputs": [
    {
     "name": "stdout",
     "output_type": "stream",
     "text": [
      "[False, True, False, True, False, False, False, False, False, False, False, False, True, False, False, False, False, False, True, True, True, True, False, False, False, False, False, True, False, True]\n"
     ]
    }
   ],
   "source": [
    "print([random() <= p for i in range(n)])"
   ]
  },
  {
   "cell_type": "code",
   "execution_count": 6,
   "metadata": {},
   "outputs": [
    {
     "data": {
      "text/plain": [
       "array([0.74945519, 0.03729033, 0.51691626, 0.53097704, 0.29395573,\n",
       "       0.68044545, 0.54592358, 0.77930066, 0.1040998 , 0.10361646,\n",
       "       0.03486622, 0.8825341 , 0.72361149, 0.95575285, 0.52797135,\n",
       "       0.76427653, 0.70994804, 0.14046739, 0.33629154, 0.59016946,\n",
       "       0.84144135, 0.46925334, 0.04396844, 0.34881008, 0.67196927,\n",
       "       0.7961061 , 0.48763941, 0.81653667, 0.92655449, 0.41673588])"
      ]
     },
     "execution_count": 6,
     "metadata": {},
     "output_type": "execute_result"
    }
   ],
   "source": [
    "random(size=n)"
   ]
  },
  {
   "cell_type": "code",
   "execution_count": 7,
   "metadata": {},
   "outputs": [
    {
     "data": {
      "text/plain": [
       "array([ True,  True, False, False, False, False, False,  True, False,\n",
       "       False, False,  True, False,  True, False, False, False, False,\n",
       "       False, False, False, False,  True, False, False, False,  True,\n",
       "       False,  True, False])"
      ]
     },
     "execution_count": 7,
     "metadata": {},
     "output_type": "execute_result"
    }
   ],
   "source": [
    "random(size=n) <= p"
   ]
  },
  {
   "cell_type": "code",
   "execution_count": 8,
   "metadata": {},
   "outputs": [
    {
     "data": {
      "text/plain": [
       "8"
      ]
     },
     "execution_count": 8,
     "metadata": {},
     "output_type": "execute_result"
    }
   ],
   "source": [
    "np.sum(random(size=n) <= p)"
   ]
  },
  {
   "cell_type": "code",
   "execution_count": 9,
   "metadata": {},
   "outputs": [
    {
     "name": "stdout",
     "output_type": "stream",
     "text": [
      "[15, 11, 12, 8, 10, 13, 8, 14, 11, 8, 10, 7, 6, 8, 15, 12, 11, 11, 10, 9, 9, 13, 13, 5, 8, 5, 13, 12, 7, 8, 10, 8, 12, 12, 9, 6, 7, 12, 5, 9, 10, 7, 12, 13, 13, 11, 9, 9, 9, 5, 10, 14, 4, 10, 12, 8, 6, 12, 13, 13, 12, 13, 10, 10, 13, 12, 10, 9, 15, 9, 11, 8, 9, 11, 8, 8, 9, 13, 10, 7, 7, 5, 9, 7, 14, 10, 11, 14, 9, 11, 10, 9, 14, 8, 14, 8, 8, 16, 6, 7]\n"
     ]
    }
   ],
   "source": [
    "d = [np.sum(random(size=n) <= p) for i in range(100)]\n",
    "print(d)"
   ]
  },
  {
   "cell_type": "code",
   "execution_count": 10,
   "metadata": {},
   "outputs": [
    {
     "data": {
      "image/png": "[encoded data removed]",
      "text/plain": [
       "<Figure size 432x288 with 1 Axes>"
      ]
     },
     "metadata": {
      "needs_background": "light"
     },
     "output_type": "display_data"
    }
   ],
   "source": [
    "_ = plt.hist([np.sum(random(size=n) <= p) for i in range(1000)], range=(0,n), bins=n)"
   ]
  },
  {
   "cell_type": "code",
   "execution_count": 11,
   "metadata": {},
   "outputs": [
    {
     "data": {
      "text/plain": [
       "11"
      ]
     },
     "execution_count": 11,
     "metadata": {},
     "output_type": "execute_result"
    }
   ],
   "source": [
    "binomial(n,p)"
   ]
  },
  {
   "cell_type": "code",
   "execution_count": 12,
   "metadata": {},
   "outputs": [
    {
     "name": "stdout",
     "output_type": "stream",
     "text": [
      "[10, 10, 6, 12, 9, 9, 16, 6, 8, 9, 11, 9, 14, 14, 14, 9, 12, 10, 5, 12, 10, 9, 14, 9, 8, 7, 11, 7, 8, 13, 14, 5, 10, 13, 11, 9, 11, 13, 11, 10, 8, 10, 12, 6, 10, 9, 11, 14, 11, 14, 11, 16, 11, 14, 9, 8, 8, 14, 11, 7, 12, 12, 10, 11, 8, 11, 10, 15, 10, 15, 10, 14, 11, 6, 10, 13, 8, 10, 8, 8, 12, 10, 10, 10, 17, 13, 13, 10, 8, 10, 14, 10, 9, 11, 9, 8, 11, 10, 9, 4]\n"
     ]
    }
   ],
   "source": [
    "print([binomial(n,p) for i in range(100)])"
   ]
  },
  {
   "cell_type": "code",
   "execution_count": 13,
   "metadata": {},
   "outputs": [
    {
     "data": {
      "image/png": "[encoded data removed]",
      "text/plain": [
       "<Figure size 432x288 with 1 Axes>"
      ]
     },
     "metadata": {
      "needs_background": "light"
     },
     "output_type": "display_data"
    }
   ],
   "source": [
    "_ = plt.hist([binomial(n,p) for i in range(100)], range=(0,30), bins=n)"
   ]
  },
  {
   "cell_type": "code",
   "execution_count": 14,
   "metadata": {},
   "outputs": [
    {
     "name": "stdout",
     "output_type": "stream",
     "text": [
      "If the conversion rate is 0.3333333333333333 and I run the experiment for 30 trials/vistors, I may get 15 conversions.\n"
     ]
    }
   ],
   "source": [
    "num_trials = 30\n",
    "conversion_rate = 10 / 30\n",
    "num_conversions = binomial(num_trials, conversion_rate)\n",
    "print(f'If the conversion rate is {conversion_rate} and I run the experiment for {num_trials} trials/vistors, I may get {num_conversions} conversions.')"
   ]
  },
  {
   "cell_type": "markdown",
   "metadata": {},
   "source": [
    "## Question: If I get 10 conversions from 30 trials what is my conversion rate?"
   ]
  },
  {
   "cell_type": "code",
   "execution_count": null,
   "metadata": {},
   "outputs": [],
   "source": []
  }
 ],
 "metadata": {
  "kernelspec": {
   "display_name": "Python 3",
   "language": "python",
   "name": "python3"
  },
  "language_info": {
   "codemirror_mode": {
    "name": "ipython",
    "version": 3
   },
   "file_extension": ".py",
   "mimetype": "text/x-python",
   "name": "python",
   "nbconvert_exporter": "python",
   "pygments_lexer": "ipython3",
   "version": "3.6.6"
  }
 },
 "nbformat": 4,
 "nbformat_minor": 2
}
