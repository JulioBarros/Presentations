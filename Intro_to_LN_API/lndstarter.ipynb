{
 "cells": [
  {
   "cell_type": "markdown",
   "metadata": {},
   "source": [
    "Start lnd\n",
    "\n",
    "```\n",
    "lnd --bitcoin.active --bitcoin.testnet --debuglevel=info --bitcoin.node=neutrino --neutrino.connect=faucet.lightning.community\n",
    "```\n",
    "\n",
    "Unlock\n",
    "```\n",
    "lncli --network=testnet unlock\n",
    "```\n",
    "\n",
    "Gen protobuf code\n",
    "```\n",
    " python -m grpc_tools.protoc --proto_path=googleapis:. --python_out=. --grpc_python_out=. rpc.proto\n",
    " ```"
   ]
  },
  {
   "cell_type": "code",
   "execution_count": 1,
   "metadata": {},
   "outputs": [],
   "source": [
    "import os\n",
    "import time\n",
    "\n",
    "import grpc\n",
    "import codecs\n",
    "\n",
    "import rpc_pb2 as ln\n",
    "import rpc_pb2_grpc as lnrpc"
   ]
  },
  {
   "cell_type": "code",
   "execution_count": 2,
   "metadata": {},
   "outputs": [],
   "source": [
    "# updated ECDSA generated tls.cert\n",
    "os.environ[\"GRPC_SSL_CIPHER_SUITES\"] = 'HIGH+ECDSA'"
   ]
  },
  {
   "cell_type": "code",
   "execution_count": 3,
   "metadata": {},
   "outputs": [],
   "source": [
    "lnd_dir = '~/Library/Application Support/Lnd/'\n",
    "macaroon_file = lnd_dir + \"data/chain/bitcoin/testnet/admin.macaroon\"\n",
    "cert_file = lnd_dir + '/tls.cert'\n",
    "\n",
    "with open(os.path.expanduser(macaroon_file), 'rb') as f:\n",
    "    macaroon_bytes = f.read()\n",
    "    macaroon = codecs.encode(macaroon_bytes, 'hex')\n",
    "\n",
    "with open(os.path.expanduser(cert_file), 'rb') as f:\n",
    "    cert = f.read()\n",
    "\n",
    "\n",
    "# create function to automatically add our credentials. For more info see grpc docs.\n",
    "def metadata_callback(context, callback):\n",
    "    callback([('macaroon', macaroon)], None)\n",
    "\n",
    "auth_creds = grpc.metadata_call_credentials(metadata_callback)\n",
    "cert_creds = grpc.ssl_channel_credentials(cert)\n",
    "\n",
    "combined_creds = grpc.composite_channel_credentials(cert_creds, auth_creds)"
   ]
  },
  {
   "cell_type": "code",
   "execution_count": 4,
   "metadata": {},
   "outputs": [],
   "source": [
    "connection = grpc.secure_channel('localhost:10009', combined_creds)\n",
    "stub = lnrpc.LightningStub(connection)"
   ]
  },
  {
   "cell_type": "code",
   "execution_count": 5,
   "metadata": {},
   "outputs": [
    {
     "data": {
      "text/plain": [
       "identity_pubkey: \"022e6c6d21aa73495f736e6d1cda53569e5f6f3731f87aaa5c7dc27508819d02e4\"\n",
       "alias: \"022e6c6d21aa73495f73\"\n",
       "num_active_channels: 2\n",
       "num_peers: 3\n",
       "block_height: 1517341\n",
       "block_hash: \"00000000000000a3eced6bb68e8103d0d19406a7bc8ef99eeeb0cfc84c9fcedc\"\n",
       "synced_to_chain: true\n",
       "testnet: true\n",
       "best_header_timestamp: 1558308286\n",
       "version: \"0.6.1-beta commit=v0.6.1-beta-16-gf79a9d97a9a9f0d7c0fdf629d827415fb291dca9\"\n",
       "chains {\n",
       "  chain: \"bitcoin\"\n",
       "  network: \"testnet\"\n",
       "}"
      ]
     },
     "execution_count": 5,
     "metadata": {},
     "output_type": "execute_result"
    }
   ],
   "source": [
    "request = ln.GetInfoRequest()\n",
    "stub.GetInfo(request)"
   ]
  },
  {
   "cell_type": "code",
   "execution_count": 6,
   "metadata": {},
   "outputs": [
    {
     "data": {
      "text/plain": [
       "total_balance: 6244722\n",
       "confirmed_balance: 6244722"
      ]
     },
     "execution_count": 6,
     "metadata": {},
     "output_type": "execute_result"
    }
   ],
   "source": [
    "stub.WalletBalance(ln.WalletBalanceRequest())"
   ]
  },
  {
   "cell_type": "code",
   "execution_count": 7,
   "metadata": {},
   "outputs": [
    {
     "data": {
      "text/plain": [
       "peers {\n",
       "  pub_key: \"0270685ca81a8e4d4d01beec5781f4cc924684072ae52c507f8ebe9daf0caaab7b\"\n",
       "  address: \"159.203.125.125:9735\"\n",
       "  bytes_sent: 2640\n",
       "  bytes_recv: 255837\n",
       "  ping_time: 93998\n",
       "  sync_type: PASSIVE_SYNC\n",
       "}\n",
       "peers {\n",
       "  pub_key: \"023a8dfe081c6bbd0504e599f33d39d17687de63023a8b20afcb59147d9d77c19d\"\n",
       "  address: \"92.53.89.123:19735\"\n",
       "  bytes_sent: 59\n",
       "  bytes_recv: 59\n",
       "  ping_time: 208369\n",
       "  sync_type: PASSIVE_SYNC\n",
       "}\n",
       "peers {\n",
       "  pub_key: \"02eeb1079cf1f101767504a0e8b9b85fc80b7291625dd880c2d693d960d802120f\"\n",
       "  address: \"52.185.134.202:9735\"\n",
       "  bytes_sent: 491\n",
       "  bytes_recv: 101\n",
       "  ping_time: 119974\n",
       "  sync_type: PASSIVE_SYNC\n",
       "}"
      ]
     },
     "execution_count": 7,
     "metadata": {},
     "output_type": "execute_result"
    }
   ],
   "source": [
    "stub.ListPeers(ln.ListPeersRequest())"
   ]
  },
  {
   "cell_type": "code",
   "execution_count": 8,
   "metadata": {},
   "outputs": [
    {
     "data": {
      "text/plain": [
       "fee_sat: 7700\n",
       "feerate_sat_per_byte: 50"
      ]
     },
     "execution_count": 8,
     "metadata": {},
     "output_type": "execute_result"
    }
   ],
   "source": [
    "request = ln.EstimateFeeRequest(AddrToAmount = {\"033bd0c8d5ecdc3685f714d41dfe116e7aedea89e14e4f23c32d33b8a6c03e9c24\" : 1_000_000})\n",
    "stub.EstimateFee(request)"
   ]
  },
  {
   "cell_type": "code",
   "execution_count": 9,
   "metadata": {},
   "outputs": [
    {
     "data": {
      "text/plain": [
       "channels {\n",
       "  active: true\n",
       "  remote_pubkey: \"0270685ca81a8e4d4d01beec5781f4cc924684072ae52c507f8ebe9daf0caaab7b\"\n",
       "  channel_point: \"e31fe72b2dd6712955589752f2671c059bbb641f4ef6d8642dc9cce1115f6108:0\"\n",
       "  chan_id: 1666274687536922624\n",
       "  capacity: 100000\n",
       "  local_balance: 50000\n",
       "  remote_balance: 49817\n",
       "  commit_fee: 183\n",
       "  commit_weight: 724\n",
       "  fee_per_kw: 253\n",
       "  num_updates: 2\n",
       "  csv_delay: 144\n",
       "  chan_status_flags: \"ChanStatusDefault\"\n",
       "}\n",
       "channels {\n",
       "  active: true\n",
       "  remote_pubkey: \"0270685ca81a8e4d4d01beec5781f4cc924684072ae52c507f8ebe9daf0caaab7b\"\n",
       "  channel_point: \"ee37ad28e40f4dc979b8f5bd89c9779462108993b58368c131ffb027eab03c4e:0\"\n",
       "  chan_id: 1666279085571244032\n",
       "  capacity: 500000\n",
       "  local_balance: 100000\n",
       "  remote_balance: 399817\n",
       "  commit_fee: 183\n",
       "  commit_weight: 724\n",
       "  fee_per_kw: 253\n",
       "  num_updates: 2\n",
       "  csv_delay: 144\n",
       "  chan_status_flags: \"ChanStatusDefault\"\n",
       "}"
      ]
     },
     "execution_count": 9,
     "metadata": {},
     "output_type": "execute_result"
    }
   ],
   "source": [
    "stub.ListChannels(ln.ListChannelsRequest())"
   ]
  },
  {
   "cell_type": "code",
   "execution_count": 10,
   "metadata": {},
   "outputs": [
    {
     "name": "stdout",
     "output_type": "stream",
     "text": [
      "Node 0\n",
      "last_update: 1551676959\n",
      "pub_key: \"02000b1f8a0eac1a299c2594f60055151a1d67bad2c37e09be4fcdc519d7ebe722\"\n",
      "alias: \"02000b1f8a0eac1a299c\"\n",
      "color: \"#3399ff\"\n",
      "\n",
      "Node 1\n",
      "pub_key: \"02000ddda15408477eb332b535803dc9fa48adba6775f5e11f3ecfd78baa2651b1\"\n",
      "color: \"#000000\"\n",
      "\n",
      "Node 2\n",
      "pub_key: \"02006300de37c9177fd137cc06f16d9c351dbdcc6f357912eb7e09f4215d58aa41\"\n",
      "color: \"#000000\"\n",
      "\n",
      "Node 3\n",
      "pub_key: \"02006e026ff5dae47924d76a103814d551169a74f562ec8f1760476e063d5bc0ea\"\n",
      "color: \"#000000\"\n",
      "\n",
      "Node 4\n",
      "last_update: 1539877267\n",
      "pub_key: \"0200902b24cb466a068f7e51623d0958f7e47a0daa72e6ad45b8325171ebe129ce\"\n",
      "alias: \"0200902b24cb466a068f\"\n",
      "color: \"#3399ff\"\n",
      "\n"
     ]
    }
   ],
   "source": [
    "g = stub.DescribeGraph(ln.ChannelGraphRequest())\n",
    "for i, n in enumerate(g.nodes[:5]):\n",
    "    print(f'Node {i}')\n",
    "    print(n)"
   ]
  },
  {
   "cell_type": "code",
   "execution_count": 11,
   "metadata": {},
   "outputs": [
    {
     "name": "stdout",
     "output_type": "stream",
     "text": [
      "Channel 0\n",
      "channel_id: 1313689895797915648\n",
      "chan_point: \"749f88030527b7f729bc8a144c91084b965cfaf9dd8bf7431de0b51965924dda:0\"\n",
      "node1_pub: \"022d5a83c275413826b199f847c48316c7c5a89668d102e9103a394b884303e99e\"\n",
      "node2_pub: \"02e6f75091d25c9b902b27c77e16e8eba7ebf5e96b71caff2433fbeeb10998469c\"\n",
      "capacity: 16677216\n",
      "\n",
      "Channel 1\n",
      "channel_id: 1314245149169352704\n",
      "chan_point: \"8c9424be322f044347fab19327f0fe9847ac8c638c33121ec9199dd4b47d6efd:0\"\n",
      "node1_pub: \"02eec2f92298fab9ed3a8f7f9f3519bcff9114a6061122c410a4bb78e279127a8a\"\n",
      "node2_pub: \"035b55e3e08538afeef6ff9804e3830293eec1c4a6a9570f1e96a478dad1c86fed\"\n",
      "capacity: 10000000\n",
      "\n",
      "Channel 2\n",
      "channel_id: 1314852079589851136\n",
      "chan_point: \"e9ce425cc75e46f7549d7c07f9ef51d405a7f6517c04f188c62aea55871b60bd:0\"\n",
      "node1_pub: \"02b4f0aa3fd614644cbe75af230df222d9ec1270ad53ab5123bfec647140bb4708\"\n",
      "node2_pub: \"0384c8dc177c5d7c01d8b5d6053699d09ccda823043a572c1a4d1b8949574e57be\"\n",
      "capacity: 16677216\n",
      "\n",
      "Channel 3\n",
      "channel_id: 1315069782890774528\n",
      "chan_point: \"5ffdf3820215223ee6b3b730df310a92f13e13f831089244864332817ea0a709:0\"\n",
      "node1_pub: \"03b4bd3f7b651a2ead7f93d9757ce81e46fc0caccac1d54478b71f9c34e3d5cf20\"\n",
      "node2_pub: \"03ee7f315eca22adc3e0d01319ba4ddf7a333e57fff63d98d55c8940f68e8b8bc7\"\n",
      "capacity: 16677216\n",
      "\n",
      "Channel 4\n",
      "channel_id: 1315177535029837824\n",
      "chan_point: \"10004ed1d8079693ac00048521fee77156b99ba674eaaddf660b52207b587b86:0\"\n",
      "node1_pub: \"02e4afa13237665abf1536cb9febdd63321583ab387ed1dfa823704de987a12d40\"\n",
      "node2_pub: \"03933884aaf1d6b108397e5efe5c86bcf2d8ca8d2f700eda99db9214fc2712b134\"\n",
      "capacity: 10000000\n",
      "\n"
     ]
    }
   ],
   "source": [
    "for i, n in enumerate(g.edges[:5]):\n",
    "    print(f'Channel {i}')\n",
    "    print(n)"
   ]
  },
  {
   "cell_type": "code",
   "execution_count": 12,
   "metadata": {},
   "outputs": [
    {
     "data": {
      "text/plain": [
       "r_hash: \"\\242z\\022\\341P\\227\\207\\245\\035?\\313\\013\\002p\\224\\322\\235\\324\\362:\\036H\\032\\024J\\004\\241\\343\\211-\\030\\\\\"\n",
       "payment_request: \"lntb10m1pwwre7gpp55fap9c2sj7r628flev9syuy562wafu36reyp59z2qjs78zfdrpwqdpggehhygr5dpshggr5dp5kueeq09hh2gr0wajjqmt9cqzpgxqrrss5jy3vla9aelt35vcyyz4xytvqrsvl32umvwadfzwe5zz4crvenz8gr6rjhaa5ca803tl67zz8cnxxts2nugcavu77j6arf3fwykhn7qpf2e22y\"\n",
       "add_index: 8"
      ]
     },
     "execution_count": 12,
     "metadata": {},
     "output_type": "execute_result"
    }
   ],
   "source": [
    "request = ln.Invoice(memo=\"For that thing you owe me\", \n",
    "                     value=1000000, \n",
    "                     expiry=3600,\n",
    "                     creation_date=int(time.time()))\n",
    "\n",
    "response = stub.AddInvoice(request)\n",
    "response"
   ]
  },
  {
   "cell_type": "code",
   "execution_count": 13,
   "metadata": {},
   "outputs": [
    {
     "data": {
      "text/plain": [
       "destination: \"022e6c6d21aa73495f736e6d1cda53569e5f6f3731f87aaa5c7dc27508819d02e4\"\n",
       "payment_hash: \"a27a12e1509787a51d3fcb0b027094d29dd4f23a1e481a144a04a1e3892d185c\"\n",
       "num_satoshis: 1000000\n",
       "timestamp: 1558308808\n",
       "expiry: 3600\n",
       "description: \"For that thing you owe me\"\n",
       "cltv_expiry: 40"
      ]
     },
     "execution_count": 13,
     "metadata": {},
     "output_type": "execute_result"
    }
   ],
   "source": [
    "request = ln.PayReqString(pay_req=response.payment_request)\n",
    "response = stub.DecodePayReq(request)\n",
    "response"
   ]
  },
  {
   "cell_type": "code",
   "execution_count": 14,
   "metadata": {},
   "outputs": [
    {
     "data": {
      "text/plain": [
       "invoices {\n",
       "  memo: \"For that thing you owe me\"\n",
       "  r_preimage: \"\\027\\034\\317\\221\\370vr\\216l-\\260#\\342\\353\\276\\003]K\\366\\031\\354,\\273\\335?\\370\\351\\324\\257O\\216\\367\"\n",
       "  r_hash: \"\\263\\222\\211\\001\\264\\244\\275,L\\3621\\240t\\223q\\017\\343\\t\\365\\271\\376O\\013\\'\\362\\227I\\\\\\225\\005\\336~\"\n",
       "  value: 1000000\n",
       "  creation_date: 1558268333\n",
       "  payment_request: \"lntb10m1pwwzjddpp5kwfgjqd55j7jcn8jxxs8fym3pl3snadele8skfljjay4e9g9melqdpggehhygr5dpshggr5dp5kueeq09hh2gr0wajjqmt9cqzpgxqrrssw67d4wm2dldtutax6twgjm5lx99fdsnu7ckzuv0feluml75pf9angalh93evrdqzz0g8rj7239m8nr8udye5lefndkhwqwqnvm599ugqg7hfxh\"\n",
       "  expiry: 3600\n",
       "  cltv_expiry: 40\n",
       "  add_index: 1\n",
       "}\n",
       "invoices {\n",
       "  memo: \"For that thing you owe me\"\n",
       "  r_preimage: \"\\237\\372\\262Rp\\223\\022\\271\\212`mc\\251\\252\\300\\261\\346C\\013Z\\301nX\\247\\257\\030\\242\\026@%|d\"\n",
       "  r_hash: \"\\214r:\\036l&\\000E\\004w\\313\\302H\\024\\341\\276|\\026c\\350\\322!u\\r\\\"\\023g\\217\\347g:\\214\"\n",
       "  value: 1000000\n",
       "  creation_date: 1558268355\n",
       "  payment_request: \"lntb10m1pwwzjwrpp533er58nvycqy2prhe0pys98phe7pvclg6gsh2rfzzdnclem882xqdpggehhygr5dpshggr5dp5kueeq09hh2gr0wajjqmt9cqzpgxqrrss29sg8rzqtuu2n4z4cmlpfpxwfcvlqzsugrhdddglrkc8t2g09wzh5tepmaae4rfyvxzptx56rkcp0cxc4hzck7uzkjahzeg82jf764gp5x8syq\"\n",
       "  expiry: 3600\n",
       "  cltv_expiry: 40\n",
       "  add_index: 2\n",
       "}\n",
       "invoices {\n",
       "  memo: \"For that thing you owe me\"\n",
       "  r_preimage: \"4\\232\\034!w\\273\\354:L$\\226\\253x\\214\\300|\\327\\266\\226C\\276is\\373\\373\\271\\250q8e05\"\n",
       "  r_hash: \"\\240\\343\\026D\\351\\262\\247\\007\\242\\003\\346e7\\263\\177\\\"\\330G\\246(G\\371\\202!w\\3261\\3318\\275w\\'\"\n",
       "  value: 1000000\n",
       "  creation_date: 1558268376\n",
       "  payment_request: \"lntb10m1pwwzjwcpp55r33v38fk2ns0gsruejn0vmlytvy0f3gglucygth6ccajw9awunsdpggehhygr5dpshggr5dp5kueeq09hh2gr0wajjqmt9cqzpgxqrrss7saqdsjkhfn3svf0ymmszv0k45asyk3dx0scmf59qcxkjj7xk2s30v85v0lc5g4n3r5hvud0j4f35wyrz058n537uhw4mq7vnhttu3gps2l4d3\"\n",
       "  expiry: 3600\n",
       "  cltv_expiry: 40\n",
       "  add_index: 3\n",
       "}\n",
       "invoices {\n",
       "  memo: \"For that thing you owe me\"\n",
       "  r_preimage: \"\\351\\000\\236\\353\\\\\\310\\303\\035\\302\\211S\\316X\\324\\242\\304\\311qW\\353\\336}N\\r\\245\\345cm\\033\\341h\\321\"\n",
       "  r_hash: \"+?\\347\\245!\\262\\201\\266tV,\\000\\021\\335\\235\\250\\\"\\207oU\\244oeI\\217\\223\\032\\213\\022{\\315p\"\n",
       "  value: 1000000\n",
       "  creation_date: 1558268379\n",
       "  payment_request: \"lntb10m1pwwzjwmpp59vl70ffpk2qmvazk9sqprhva4q3gwm6453hk2jv0jvdgkynme4cqdpggehhygr5dpshggr5dp5kueeq09hh2gr0wajjqmt9cqzpgxqrrsszmyyeq6jm60mt7gfm26djylk6ydtn08nee7p3ydlj5evel3yy8l8f4kkjnd693enyjguczk4gghvl2gedy8j2gzyvftwvgwanvx8cnsqsp8559\"\n",
       "  expiry: 3600\n",
       "  cltv_expiry: 40\n",
       "  add_index: 4\n",
       "}\n",
       "invoices {\n",
       "  memo: \"For that thing you owe me\"\n",
       "  r_preimage: \":\\2306\\357\\241\\025\\254p\\341i=\\220\\327\\337\\302\\\"\\215S\\320\\227\\2044\\322\\304\\366\\227\\351Q\\252\\036\\253_\"\n",
       "  r_hash: \"\\276\\202\\230\\366\\007j\\270\\342\\r\\205\\302~%Rs|\\343\\\\\\264<G\\035\\222Z\\376<\\355\\207\\360\\351\\342\\004\"\n",
       "  value: 1000000\n",
       "  creation_date: 1558268786\n",
       "  payment_request: \"lntb10m1pwwzjmjpp5h6pf3as8d2uwyrv9cflz25nn0n34edpuguweykh78nkc0u8fugzqdpggehhygr5dpshggr5dp5kueeq09hh2gr0wajjqmt9cqzpgxqrrss8m8yrp3qmcc3292a37pszc9nal9nd3vr52lf9eqkwpqmdxxkp87q6ftrhx50ccrkszkec3g8qtk078z9xprefhwllw47adpqseplgpqq0v8fed\"\n",
       "  expiry: 3600\n",
       "  cltv_expiry: 40\n",
       "  add_index: 5\n",
       "}\n",
       "invoices {\n",
       "  memo: \"For that thing you owe me\"\n",
       "  r_preimage: \"\\1772\\020\\274T\\356\\357\\000y\\334_\\242\\202\\255Zrc\\272H\\357\\247\\263\\265\\270\\361|\\355\\323]\\004\\323\\230\"\n",
       "  r_hash: \"\\026];o\\260\\262\\270\\\"\\213\\253 _\\335k\\350r\\210\\237N\\316\\243\\\\\\351\\377\\353\\022\\'\\334\\347\\177\\270\\354\"\n",
       "  value: 1000000\n",
       "  creation_date: 1558268810\n",
       "  payment_request: \"lntb10m1pwwzju2pp5zewnkmask2uz9zatyp0a66lgw2yf7nkw5dwwnlltzgnaeemlhrkqdpggehhygr5dpshggr5dp5kueeq09hh2gr0wajjqmt9cqzpgxqrrssnexcd5zh3cl3j3cuv8nu2pdtn9dsdgqd4nvhpkwvzd6cpprg4ks3jvzwudd5pvtn7uv2j6fksndk3jqpc2ptjc4j7g9wgkhfw3wf5mgq35tnmn\"\n",
       "  expiry: 3600\n",
       "  cltv_expiry: 40\n",
       "  add_index: 6\n",
       "}\n",
       "invoices {\n",
       "  memo: \"For that thing you owe me\"\n",
       "  r_preimage: \"\\212\\000\\240\\307\\230%*G\\347@[\\261\\t\\206\\016\\2405\\023\\270\\371\\025\\245\\273\\202\\361\\251E\\3201f0\\300\"\n",
       "  r_hash: \"\\254\\205\\355\\351\\023\\325\\310!\\013;C\\344O\\006\\250\\335\\223q\\277W\\305\\2441\\025\\2209f*Vw\\263\\227\"\n",
       "  value: 1000000\n",
       "  creation_date: 1558277790\n",
       "  payment_request: \"lntb10m1pwwzm57pp54jz7m6gn6hyzzzemg0jy7p4gmkfhr06hckjrz9vs89nz54nhkwtsdpggehhygr5dpshggr5dp5kueeq09hh2gr0wajjqmt9cqzpgxqrrss5m74km6zfjw65s3ms69q8tc847v3mtzwnj5ps4873ej58jukuh6xu7ga59uclw788r5exj2kw93lyc3m6g90knrfgq58vgrh3u8l60spd9jzkz\"\n",
       "  expiry: 3600\n",
       "  cltv_expiry: 40\n",
       "  add_index: 7\n",
       "}\n",
       "invoices {\n",
       "  memo: \"For that thing you owe me\"\n",
       "  r_preimage: \"\\'\\351]w\\177\\241e\\226UU\\324\\335\\355\\tJ\\267h\\300]\\244\\014\\271x7\\024\\033\\273\\337-z\\244x\"\n",
       "  r_hash: \"\\242z\\022\\341P\\227\\207\\245\\035?\\313\\013\\002p\\224\\322\\235\\324\\362:\\036H\\032\\024J\\004\\241\\343\\211-\\030\\\\\"\n",
       "  value: 1000000\n",
       "  creation_date: 1558308808\n",
       "  payment_request: \"lntb10m1pwwre7gpp55fap9c2sj7r628flev9syuy562wafu36reyp59z2qjs78zfdrpwqdpggehhygr5dpshggr5dp5kueeq09hh2gr0wajjqmt9cqzpgxqrrss5jy3vla9aelt35vcyyz4xytvqrsvl32umvwadfzwe5zz4crvenz8gr6rjhaa5ca803tl67zz8cnxxts2nugcavu77j6arf3fwykhn7qpf2e22y\"\n",
       "  expiry: 3600\n",
       "  cltv_expiry: 40\n",
       "  add_index: 8\n",
       "}\n",
       "last_index_offset: 8\n",
       "first_index_offset: 1"
      ]
     },
     "execution_count": 14,
     "metadata": {},
     "output_type": "execute_result"
    }
   ],
   "source": [
    "stub.ListInvoices(ln.ListInvoiceRequest())"
   ]
  },
  {
   "cell_type": "code",
   "execution_count": null,
   "metadata": {},
   "outputs": [],
   "source": []
  }
 ],
 "metadata": {
  "kernelspec": {
   "display_name": "Python 3",
   "language": "python",
   "name": "python3"
  },
  "language_info": {
   "codemirror_mode": {
    "name": "ipython",
    "version": 3
   },
   "file_extension": ".py",
   "mimetype": "text/x-python",
   "name": "python",
   "nbconvert_exporter": "python",
   "pygments_lexer": "ipython3",
   "version": "3.7.3"
  }
 },
 "nbformat": 4,
 "nbformat_minor": 2
}
